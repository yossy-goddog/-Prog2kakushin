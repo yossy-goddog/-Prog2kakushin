{
  "nbformat": 4,
  "nbformat_minor": 0,
  "metadata": {
    "colab": {
      "provenance": [],
      "authorship_tag": "ABX9TyNIWqi/DDZxikdYbq0qHNbZ",
      "include_colab_link": true
    },
    "kernelspec": {
      "name": "python3",
      "display_name": "Python 3"
    },
    "language_info": {
      "name": "python"
    }
  },
  "cells": [
    {
      "cell_type": "markdown",
      "metadata": {
        "id": "view-in-github",
        "colab_type": "text"
      },
      "source": [
        "<a href=\"https://colab.research.google.com/github/yossy-goddog/Prog2kakushin/blob/main/work1.ipynb\" target=\"_parent\"><img src=\"https://colab.research.google.com/assets/colab-badge.svg\" alt=\"Open In Colab\"/></a>"
      ]
    },
    {
      "cell_type": "code",
      "execution_count": null,
      "metadata": {
        "id": "1lXVR3YAFlzY"
      },
      "outputs": [],
      "source": [
        "print('パンダを使って実社会数学の課題をすぐできるやつを作りたい')"
      ]
    },
    {
      "cell_type": "markdown",
      "source": [
        "最初に一つ目のプログラムを実行して、日本語に対応できるようにします。そして二つ目のプログラムでcsvファイルをダウンロードし、三つ目のプログラムを実行することでそのcsvファイルに対する実行結果を確認してください。このプログラムは別のデータでもできるため、ここにあるcsv以外にも対応しています。"
      ],
      "metadata": {
        "id": "WkV8UeA9CsZJ"
      }
    },
    {
      "cell_type": "code",
      "source": [
        "!pip install japanize_matplotlib"
      ],
      "metadata": {
        "colab": {
          "base_uri": "https://localhost:8080/"
        },
        "id": "ux3nH30CFtOT",
        "outputId": "64b89aa8-f1d9-4040-d9b6-ff760b6ca7b2"
      },
      "execution_count": 50,
      "outputs": [
        {
          "output_type": "stream",
          "name": "stdout",
          "text": [
            "Collecting japanize_matplotlib\n",
            "  Downloading japanize-matplotlib-1.1.3.tar.gz (4.1 MB)\n",
            "\u001b[2K     \u001b[90m━━━━━━━━━━━━━━━━━━━━━━━━━━━━━━━━━━━━━━━━\u001b[0m \u001b[32m4.1/4.1 MB\u001b[0m \u001b[31m32.3 MB/s\u001b[0m eta \u001b[36m0:00:00\u001b[0m\n",
            "\u001b[?25h  Preparing metadata (setup.py) ... \u001b[?25l\u001b[?25hdone\n",
            "Requirement already satisfied: matplotlib in /usr/local/lib/python3.10/dist-packages (from japanize_matplotlib) (3.7.1)\n",
            "Requirement already satisfied: contourpy>=1.0.1 in /usr/local/lib/python3.10/dist-packages (from matplotlib->japanize_matplotlib) (1.2.0)\n",
            "Requirement already satisfied: cycler>=0.10 in /usr/local/lib/python3.10/dist-packages (from matplotlib->japanize_matplotlib) (0.12.1)\n",
            "Requirement already satisfied: fonttools>=4.22.0 in /usr/local/lib/python3.10/dist-packages (from matplotlib->japanize_matplotlib) (4.46.0)\n",
            "Requirement already satisfied: kiwisolver>=1.0.1 in /usr/local/lib/python3.10/dist-packages (from matplotlib->japanize_matplotlib) (1.4.5)\n",
            "Requirement already satisfied: numpy>=1.20 in /usr/local/lib/python3.10/dist-packages (from matplotlib->japanize_matplotlib) (1.23.5)\n",
            "Requirement already satisfied: packaging>=20.0 in /usr/local/lib/python3.10/dist-packages (from matplotlib->japanize_matplotlib) (23.2)\n",
            "Requirement already satisfied: pillow>=6.2.0 in /usr/local/lib/python3.10/dist-packages (from matplotlib->japanize_matplotlib) (9.4.0)\n",
            "Requirement already satisfied: pyparsing>=2.3.1 in /usr/local/lib/python3.10/dist-packages (from matplotlib->japanize_matplotlib) (3.1.1)\n",
            "Requirement already satisfied: python-dateutil>=2.7 in /usr/local/lib/python3.10/dist-packages (from matplotlib->japanize_matplotlib) (2.8.2)\n",
            "Requirement already satisfied: six>=1.5 in /usr/local/lib/python3.10/dist-packages (from python-dateutil>=2.7->matplotlib->japanize_matplotlib) (1.16.0)\n",
            "Building wheels for collected packages: japanize_matplotlib\n",
            "  Building wheel for japanize_matplotlib (setup.py) ... \u001b[?25l\u001b[?25hdone\n",
            "  Created wheel for japanize_matplotlib: filename=japanize_matplotlib-1.1.3-py3-none-any.whl size=4120257 sha256=d6698d555c2f5487de3250741f2fa45db72371d5d396a9f1dfb1f5d7829be250\n",
            "  Stored in directory: /root/.cache/pip/wheels/61/7a/6b/df1f79be9c59862525070e157e62b08eab8ece27c1b68fbb94\n",
            "Successfully built japanize_matplotlib\n",
            "Installing collected packages: japanize_matplotlib\n",
            "Successfully installed japanize_matplotlib-1.1.3\n"
          ]
        }
      ]
    },
    {
      "cell_type": "code",
      "source": [
        "hazure=10**2\n",
        "df=pd.DataFrame([[hazure,1.07,0.42,1.7,2.12,3.44,2.92,3.45,3.52],\n",
        "                 [hazure,hazure,1.05,0.63,2.79,2.37,3.59,2.62,3.75],\n",
        "                 [hazure,hazure,hazure,1.28,1.74,3.02,2.54,3.03,3.1],\n",
        "                 [hazure,hazure,hazure,hazure,2.82,2.06,3.62,2.65,3.78],\n",
        "                 [hazure,hazure,hazure,hazure,hazure,1.76,0.8,1.77,1.84],\n",
        "                 [hazure,hazure,hazure,hazure,hazure,hazure,1.56,0.59,1.72],\n",
        "                 [hazure,hazure,hazure,hazure,hazure,hazure,hazure,0.97,1.04],\n",
        "                 [hazure,hazure,hazure,hazure,hazure,hazure,hazure,hazure,1.13],\n",
        "                 [hazure,hazure,hazure,hazure,hazure,hazure,hazure,hazure,hazure]]\n",
        "                 ,index=['B','S1','T','H1','H2','S2','H3','R','A'],\n",
        "                 columns=['B','S1','T','H1','H2','S2','H3','R','A'])\n",
        "df.to_csv('柑橘類.csv')\n",
        "df=pd.DataFrame([[hazure,4,2,3],\n",
        "                 [hazure,hazure,6,5,],\n",
        "                 [hazure,hazure,hazure,7],\n",
        "                 [hazure,hazure,hazure,hazure]]\n",
        "                 ,index=['あ','い','う','え'],\n",
        "                  columns=['あ','い','う','え'])\n",
        "df.to_csv('あいうえ.csv')"
      ],
      "metadata": {
        "id": "IlV9TKODBHSo"
      },
      "execution_count": 51,
      "outputs": []
    },
    {
      "cell_type": "code",
      "source": [
        "import functools\n",
        "import japanize_matplotlib\n",
        "import operator\n",
        "import pandas as pd\n",
        "import numpy as np\n",
        "from scipy.cluster import hierarchy\n",
        "from matplotlib import pyplot as plt\n",
        "hazure=10**2\n",
        "df=pd.read_csv('あいうえ.csv',index_col=0)\n",
        "x_ticks=list(df.index.values)\n",
        "def saisyouti(df):\n",
        "  gyou_small=[]\n",
        "  index=df.index.values\n",
        "  for i in index:\n",
        "    gyou_small.append(df.loc[i].min())\n",
        "  gyou_min=np.min(gyou_small)\n",
        "  return gyou_min\n",
        "def gyoumei(df):\n",
        "  gyou_small=[]\n",
        "  index=df.index.values\n",
        "  for i in index:\n",
        "    gyou_small.append(df.loc[i].min())\n",
        "  gyou_min=np.min(gyou_small)\n",
        "  gyou_index=gyou_small.index(gyou_min)\n",
        "  gyou_mei=index[gyou_index]\n",
        "  return gyou_mei,gyou_index\n",
        "def retumei(df):\n",
        "  retu_small=[]\n",
        "  columns=df.columns.values\n",
        "  for i in columns:\n",
        "    retu_small.append(df[i].min())\n",
        "  retu_min=np.min(retu_small)\n",
        "  retu_index=retu_small.index(retu_min)\n",
        "  retu_mei=columns[retu_index]\n",
        "  return retu_mei,retu_index\n",
        "def new_values(df,retumei,gyoumei,retu_index,gyou_index):\n",
        "  retu_value=[]\n",
        "  retu_value+=df[retumei][0:retu_index].to_list()\n",
        "  retu_value+=df.loc[retumei][retu_index+1:len(df)].to_list()\n",
        "  gyou_value=[]\n",
        "  if df[gyoumei][0]==hazure:\n",
        "     gyou_value+=df.loc[gyoumei][gyou_index+1:len(df)].to_list()\n",
        "  else:\n",
        "     gyou_value+=df[gyoumei][0:gyou_index].to_list()\n",
        "     gyou_value+=df.loc[gyoumei][gyou_index+1:len(df)].to_list()\n",
        "  min=np.min(gyou_value)\n",
        "  gyou_value.remove(min)\n",
        "  retu_value.remove(min)\n",
        "  new_value=[]\n",
        "  for i in range(len(gyou_value)):\n",
        "     if gyou_value[i]>=retu_value[i]:\n",
        "       new_value.append(retu_value[i])\n",
        "     else:\n",
        "       new_value.append(gyou_value[i])\n",
        "  return new_value\n",
        "def drop_df(df,retumei,gyoumei):\n",
        "  df=df.drop(gyoumei,axis=0)\n",
        "  df=df.drop(gyoumei,axis=1)\n",
        "  df=df.drop(retumei,axis=0)\n",
        "  df=df.drop(retumei,axis=1)\n",
        "  return df\n",
        "def concat_df(df,gyoumei,retumei,value):\n",
        "  tup=(gyoumei,'/',retumei)\n",
        "  str1 = functools.reduce(operator.add, (tup))\n",
        "  df[str1]=value\n",
        "  return df\n",
        "def concat_hazure(df,gyoumei,retumei,value):\n",
        "   columns=df.columns.values\n",
        "   df_hazure=pd.DataFrame([hazure for i in range(len(columns))],index=columns,columns=[columns[-1]])\n",
        "   df=pd.concat([df,df_hazure.T],axis=0)\n",
        "   return df\n",
        "data=[]\n",
        "for i in range(len(df)):\n",
        "   if i==len(df):\n",
        "     break\n",
        "   data+=df.loc[x_ticks[i]][i+1:len(df)].to_list()\n",
        "print(df)\n",
        "while len(df)>=2:\n",
        "  a=gyoumei(df)\n",
        "  b=retumei(df)\n",
        "  print(f'({b[0]})と({a[0]})でグループ化する')\n",
        "  print(f'最小値は{saisyouti(df)}')\n",
        "  y=saisyouti(df)\n",
        "  value=new_values(df,b[0],a[0],b[1],a[1])\n",
        "  df=drop_df(df,b[0],a[0])\n",
        "  df=concat_df(df,a[0],b[0],value)\n",
        "  df=concat_hazure(df,a[0],b[0],value)\n",
        "  print(df)\n",
        "Z=hierarchy.linkage(data,method='single')\n",
        "hierarchy.dendrogram(Z,labels=x_ticks)\n",
        "plt.grid()\n",
        "plt.show()\n"
      ],
      "metadata": {
        "id": "zxQpqtsyPqtA",
        "colab": {
          "base_uri": "https://localhost:8080/",
          "height": 797
        },
        "outputId": "54035705-af67-4f88-c4a4-dfe44828ab5f"
      },
      "execution_count": 53,
      "outputs": [
        {
          "output_type": "stream",
          "name": "stdout",
          "text": [
            "     あ    い    う    え\n",
            "あ  100    4    2    3\n",
            "い  100  100    6    5\n",
            "う  100  100  100    7\n",
            "え  100  100  100  100\n",
            "(う)と(あ)でグループ化する\n",
            "最小値は2\n",
            "       い    え  あ/う\n",
            "い    100    5    4\n",
            "え    100  100    3\n",
            "あ/う  100  100  100\n",
            "(あ/う)と(え)でグループ化する\n",
            "最小値は3\n",
            "         い  え/あ/う\n",
            "い      100      4\n",
            "え/あ/う  100    100\n",
            "(え/あ/う)と(い)でグループ化する\n",
            "最小値は4\n",
            "         い/え/あ/う\n",
            "い/え/あ/う    100.0\n"
          ]
        },
        {
          "output_type": "display_data",
          "data": {
            "text/plain": [
              "<Figure size 640x480 with 1 Axes>"
            ],
            "image/png": "[encoded data removed]"
          },
          "metadata": {}
        }
      ]
    }
  ]
}